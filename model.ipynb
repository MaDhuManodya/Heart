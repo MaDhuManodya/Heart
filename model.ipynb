{
 "cells": [
  {
   "cell_type": "code",
   "id": "initial_id",
   "metadata": {
    "collapsed": true,
    "ExecuteTime": {
     "end_time": "2025-01-11T10:02:57.691411Z",
     "start_time": "2025-01-11T10:02:57.676330Z"
    }
   },
   "source": [
    "import pandas as pd\n",
    "import numpy as np\n",
    "import matplotlib.pyplot as plt\n",
    "import seaborn as sns\n",
    "\n",
    "# Ignore warnings\n",
    "import warnings\n",
    "warnings.filterwarnings('ignore')"
   ],
   "outputs": [],
   "execution_count": 1
  },
  {
   "metadata": {
    "ExecuteTime": {
     "end_time": "2025-01-11T10:02:57.722641Z",
     "start_time": "2025-01-11T10:02:57.701329Z"
    }
   },
   "cell_type": "code",
   "source": [
    "# Load the dataset\n",
    "data = pd.read_csv(\"Dataset.csv\")\n",
    "\n",
    "# Check the shape of the dataset\n",
    "print(\"Dataset Shape Before Dropping 'id':\", data.shape)\n",
    "\n",
    "# Drop the 'id' column if it exists\n",
    "if 'id' in data.columns:\n",
    "    data.drop('id', axis=1, inplace=True)\n",
    "    print(\"'id' column removed.\")\n"
   ],
   "id": "da39f4dfaa74f5b4",
   "outputs": [
    {
     "name": "stdout",
     "output_type": "stream",
     "text": [
      "Dataset Shape Before Dropping 'id': (3390, 17)\n",
      "'id' column removed.\n"
     ]
    }
   ],
   "execution_count": 2
  },
  {
   "metadata": {
    "ExecuteTime": {
     "end_time": "2025-01-11T10:02:58.065716Z",
     "start_time": "2025-01-11T10:02:58.051042Z"
    }
   },
   "cell_type": "code",
   "source": [
    "# Check the shape of the dataset after dropping the column\n",
    "print(\"Dataset Shape After Dropping 'id':\", data.shape)\n",
    "\n",
    "# Check the dataset info\n",
    "data.info()\n",
    "\n",
    "# Count unique values in each column\n",
    "print(\"Unique Values in Each Column:\")\n",
    "print(data.nunique())\n",
    "\n",
    "# Check for missing values\n",
    "print(\"Missing Values:\")\n",
    "print(data.isnull().sum())\n",
    "\n",
    "# Percentage of missing values\n",
    "missing_percentage = (data.isnull().sum() / len(data)) * 100\n",
    "print(\"Percentage of Missing Values:\")\n",
    "print(missing_percentage)\n"
   ],
   "id": "797e625e1f977391",
   "outputs": [
    {
     "name": "stdout",
     "output_type": "stream",
     "text": [
      "Dataset Shape After Dropping 'id': (3390, 16)\n",
      "<class 'pandas.core.frame.DataFrame'>\n",
      "RangeIndex: 3390 entries, 0 to 3389\n",
      "Data columns (total 16 columns):\n",
      " #   Column           Non-Null Count  Dtype  \n",
      "---  ------           --------------  -----  \n",
      " 0   age              3390 non-null   int64  \n",
      " 1   education        3303 non-null   float64\n",
      " 2   sex              3390 non-null   object \n",
      " 3   is_smoking       3390 non-null   object \n",
      " 4   cigsPerDay       3368 non-null   float64\n",
      " 5   BPMeds           3346 non-null   float64\n",
      " 6   prevalentStroke  3390 non-null   int64  \n",
      " 7   prevalentHyp     3390 non-null   int64  \n",
      " 8   diabetes         3390 non-null   int64  \n",
      " 9   totChol          3352 non-null   float64\n",
      " 10  sysBP            3390 non-null   float64\n",
      " 11  diaBP            3390 non-null   float64\n",
      " 12  BMI              3376 non-null   float64\n",
      " 13  heartRate        3389 non-null   float64\n",
      " 14  glucose          3086 non-null   float64\n",
      " 15  TenYearCHD       3390 non-null   int64  \n",
      "dtypes: float64(9), int64(5), object(2)\n",
      "memory usage: 423.9+ KB\n",
      "Unique Values in Each Column:\n",
      "age                  39\n",
      "education             4\n",
      "sex                   2\n",
      "is_smoking            2\n",
      "cigsPerDay           32\n",
      "BPMeds                2\n",
      "prevalentStroke       2\n",
      "prevalentHyp          2\n",
      "diabetes              2\n",
      "totChol             240\n",
      "sysBP               226\n",
      "diaBP               142\n",
      "BMI                1259\n",
      "heartRate            68\n",
      "glucose             132\n",
      "TenYearCHD            2\n",
      "dtype: int64\n",
      "Missing Values:\n",
      "age                  0\n",
      "education           87\n",
      "sex                  0\n",
      "is_smoking           0\n",
      "cigsPerDay          22\n",
      "BPMeds              44\n",
      "prevalentStroke      0\n",
      "prevalentHyp         0\n",
      "diabetes             0\n",
      "totChol             38\n",
      "sysBP                0\n",
      "diaBP                0\n",
      "BMI                 14\n",
      "heartRate            1\n",
      "glucose            304\n",
      "TenYearCHD           0\n",
      "dtype: int64\n",
      "Percentage of Missing Values:\n",
      "age                0.000000\n",
      "education          2.566372\n",
      "sex                0.000000\n",
      "is_smoking         0.000000\n",
      "cigsPerDay         0.648968\n",
      "BPMeds             1.297935\n",
      "prevalentStroke    0.000000\n",
      "prevalentHyp       0.000000\n",
      "diabetes           0.000000\n",
      "totChol            1.120944\n",
      "sysBP              0.000000\n",
      "diaBP              0.000000\n",
      "BMI                0.412979\n",
      "heartRate          0.029499\n",
      "glucose            8.967552\n",
      "TenYearCHD         0.000000\n",
      "dtype: float64\n"
     ]
    }
   ],
   "execution_count": 3
  },
  {
   "metadata": {
    "ExecuteTime": {
     "end_time": "2025-01-11T10:02:58.144648Z",
     "start_time": "2025-01-11T10:02:58.110759Z"
    }
   },
   "cell_type": "code",
   "source": [
    "# Fill missing values\n",
    "data['BMI'].fillna(data['BMI'].mean(), inplace=True)\n",
    "data['education'].fillna(data['education'].mode()[0], inplace=True)\n",
    "data['glucose'].fillna(data['glucose'].mode()[0], inplace=True)\n",
    "data['totChol'].fillna(data['totChol'].mode()[0], inplace=True)\n",
    "data['BPMeds'].fillna(data['BPMeds'].mode()[0], inplace=True)\n",
    "data['cigsPerDay'].fillna(data['cigsPerDay'].mode()[0], inplace=True)\n",
    "data['heartRate'].fillna(data['heartRate'].mode()[0], inplace=True)\n",
    "\n",
    "# Check for missing values again\n",
    "print(\"Missing Values After Imputation:\")\n",
    "print(data.isnull().sum())\n",
    "\n",
    "# Statistical summary of the data\n",
    "print(\"Data Description:\")\n",
    "print(data.describe(include='all').T)"
   ],
   "id": "368920c1738b8207",
   "outputs": [
    {
     "name": "stdout",
     "output_type": "stream",
     "text": [
      "Missing Values After Imputation:\n",
      "age                0\n",
      "education          0\n",
      "sex                0\n",
      "is_smoking         0\n",
      "cigsPerDay         0\n",
      "BPMeds             0\n",
      "prevalentStroke    0\n",
      "prevalentHyp       0\n",
      "diabetes           0\n",
      "totChol            0\n",
      "sysBP              0\n",
      "diaBP              0\n",
      "BMI                0\n",
      "heartRate          0\n",
      "glucose            0\n",
      "TenYearCHD         0\n",
      "dtype: int64\n",
      "Data Description:\n",
      "                  count unique  top  freq       mean        std    min    25%  \\\n",
      "age              3390.0    NaN  NaN   NaN  49.542183   8.592878   32.0   42.0   \n",
      "education        3390.0    NaN  NaN   NaN   1.946018   1.017568    1.0    1.0   \n",
      "sex                3390      2    F  1923        NaN        NaN    NaN    NaN   \n",
      "is_smoking         3390      2   NO  1703        NaN        NaN    NaN    NaN   \n",
      "cigsPerDay       3390.0    NaN  NaN   NaN   9.010619  11.862839    0.0    0.0   \n",
      "BPMeds           3390.0    NaN  NaN   NaN   0.029499   0.169224    0.0    0.0   \n",
      "prevalentStroke  3390.0    NaN  NaN   NaN    0.00649   0.080309    0.0    0.0   \n",
      "prevalentHyp     3390.0    NaN  NaN   NaN   0.315339   0.464719    0.0    0.0   \n",
      "diabetes         3390.0    NaN  NaN   NaN   0.025664   0.158153    0.0    0.0   \n",
      "totChol          3390.0    NaN  NaN   NaN  237.10708  44.994095  107.0  206.0   \n",
      "sysBP            3390.0    NaN  NaN   NaN  132.60118   22.29203   83.5  117.0   \n",
      "diaBP            3390.0    NaN  NaN   NaN  82.883038  12.023581   48.0   74.5   \n",
      "BMI              3390.0    NaN  NaN   NaN  25.794964   4.106939  15.96  23.03   \n",
      "heartRate        3390.0    NaN  NaN   NaN  75.976991  11.970114   45.0   68.0   \n",
      "glucose          3390.0    NaN  NaN   NaN  81.451032  23.220277   40.0   72.0   \n",
      "TenYearCHD       3390.0    NaN  NaN   NaN   0.150737   0.357846    0.0    0.0   \n",
      "\n",
      "                   50%      75%    max  \n",
      "age               49.0     56.0   70.0  \n",
      "education          2.0      3.0    4.0  \n",
      "sex                NaN      NaN    NaN  \n",
      "is_smoking         NaN      NaN    NaN  \n",
      "cigsPerDay         0.0     20.0   70.0  \n",
      "BPMeds             0.0      0.0    1.0  \n",
      "prevalentStroke    0.0      0.0    1.0  \n",
      "prevalentHyp       0.0      1.0    1.0  \n",
      "diabetes           0.0      0.0    1.0  \n",
      "totChol          235.0    264.0  696.0  \n",
      "sysBP            128.5    144.0  295.0  \n",
      "diaBP             82.0     90.0  142.5  \n",
      "BMI               25.4  27.9975   56.8  \n",
      "heartRate         75.0     83.0  143.0  \n",
      "glucose           77.0     85.0  394.0  \n",
      "TenYearCHD         0.0      0.0    1.0  \n"
     ]
    }
   ],
   "execution_count": 4
  },
  {
   "metadata": {
    "ExecuteTime": {
     "end_time": "2025-01-11T10:02:58.299213Z",
     "start_time": "2025-01-11T10:02:58.161025Z"
    }
   },
   "cell_type": "code",
   "source": [
    "# Encode categorical variables\n",
    "from sklearn.preprocessing import LabelEncoder\n",
    "categorical_columns = data.select_dtypes(include=['object']).columns\n",
    "label_encoders = {}\n",
    "\n",
    "for col in categorical_columns:\n",
    "    le = LabelEncoder()\n",
    "    data[col] = le.fit_transform(data[col])\n",
    "    label_encoders[col] = le\n",
    "\n",
    "# Impute missing values using the most frequent strategy (redundant but safe for categorical columns)\n",
    "from sklearn.impute import SimpleImputer\n",
    "imputer = SimpleImputer(strategy='most_frequent')\n",
    "data = pd.DataFrame(imputer.fit_transform(data), columns=data.columns)"
   ],
   "id": "44c04d9a86a5d62c",
   "outputs": [],
   "execution_count": 5
  },
  {
   "metadata": {
    "ExecuteTime": {
     "end_time": "2025-01-11T10:03:05.816986Z",
     "start_time": "2025-01-11T10:02:58.316231Z"
    }
   },
   "cell_type": "code",
   "source": [
    "# Split features (X) and target (y)\n",
    "X = data.drop('TenYearCHD', axis=1)  # Replace 'TenYearCHD' with your actual target column\n",
    "y = data['TenYearCHD']\n",
    "\n",
    "# Train-Test Split\n",
    "from sklearn.model_selection import train_test_split\n",
    "X_train, X_test, y_train, y_test = train_test_split(X, y, test_size=0.2, random_state=42, stratify=y)\n",
    "\n",
    "# Apply SMOTE for class balancing\n",
    "from imblearn.over_sampling import SMOTE\n",
    "from collections import Counter\n",
    "\n",
    "print(\"Before SMOTE:\", Counter(y_train))\n",
    "smote = SMOTE(random_state=42)\n",
    "X_train_resampled, y_train_resampled = smote.fit_resample(X_train, y_train)\n",
    "print(\"After SMOTE:\", Counter(y_train_resampled))"
   ],
   "id": "56a550e83cf32e93",
   "outputs": [
    {
     "name": "stdout",
     "output_type": "stream",
     "text": [
      "Before SMOTE: Counter({0.0: 2303, 1.0: 409})\n",
      "After SMOTE: Counter({0.0: 2303, 1.0: 2303})\n"
     ]
    }
   ],
   "execution_count": 6
  },
  {
   "metadata": {
    "ExecuteTime": {
     "end_time": "2025-01-11T10:03:08.043785Z",
     "start_time": "2025-01-11T10:03:05.849456Z"
    }
   },
   "cell_type": "code",
   "source": [
    "# GridSearchCV for Decision Tree\n",
    "from sklearn.tree import DecisionTreeClassifier\n",
    "from sklearn.model_selection import GridSearchCV\n",
    "\n",
    "params_dt = {\"criterion\": [\"gini\", \"entropy\"], \"max_depth\": [None, 10, 20]}\n",
    "dt = DecisionTreeClassifier(random_state=42)\n",
    "grid_dt = GridSearchCV(dt, params_dt, cv=5, scoring=\"accuracy\", n_jobs=-1)\n",
    "grid_dt.fit(X_train_resampled, y_train_resampled)\n",
    "\n",
    "# Print best parameters and score\n",
    "print(\"Best Parameters (Decision Tree):\", grid_dt.best_params_)\n",
    "print(\"Best Score (Decision Tree):\", grid_dt.best_score_)"
   ],
   "id": "b08d260b7fc46193",
   "outputs": [
    {
     "name": "stdout",
     "output_type": "stream",
     "text": [
      "Best Parameters (Decision Tree): {'criterion': 'gini', 'max_depth': None}\n",
      "Best Score (Decision Tree): 0.8261330582385927\n"
     ]
    }
   ],
   "execution_count": 7
  },
  {
   "metadata": {
    "ExecuteTime": {
     "end_time": "2025-01-11T10:03:08.091666Z",
     "start_time": "2025-01-11T10:03:08.077049Z"
    }
   },
   "cell_type": "code",
   "source": [
    "import pickle\n",
    "\n",
    "# Save the trained model\n",
    "with open('decision_tree_model.pkl', 'wb') as file:\n",
    "    pickle.dump(grid_dt.best_estimator_, file)\n",
    "print(\"Model saved successfully!\")\n"
   ],
   "id": "e3fdc1d6049677f0",
   "outputs": [
    {
     "name": "stdout",
     "output_type": "stream",
     "text": [
      "Model saved successfully!\n"
     ]
    }
   ],
   "execution_count": 8
  },
  {
   "metadata": {
    "ExecuteTime": {
     "end_time": "2025-01-11T10:03:08.138855Z",
     "start_time": "2025-01-11T10:03:08.124887Z"
    }
   },
   "cell_type": "code",
   "source": [
    "import pickle\n",
    "\n",
    "# Load the model\n",
    "with open('decision_tree_model.pkl', 'rb') as file:\n",
    "    model = pickle.load(file)\n",
    "print(\"Model loaded successfully!\")\n"
   ],
   "id": "d4e3403005eff59",
   "outputs": [
    {
     "name": "stdout",
     "output_type": "stream",
     "text": [
      "Model loaded successfully!\n"
     ]
    }
   ],
   "execution_count": 9
  },
  {
   "metadata": {
    "ExecuteTime": {
     "end_time": "2025-01-11T10:03:08.185523Z",
     "start_time": "2025-01-11T10:03:08.170860Z"
    }
   },
   "cell_type": "code",
   "source": [
    "# Ensure your input data has the same columns as the training data, in the correct order\n",
    "input_df = pd.DataFrame([{\n",
    "    'age': 45,\n",
    "    'education': 2,  # example encoding for 'education' if categorical\n",
    "    'sex': 1,  # example encoding for 'sex' if it was categorical\n",
    "    'is_smoking': 1,\n",
    "    'cigsPerDay': 15,\n",
    "    'BPMeds': 1,\n",
    "    'prevalentStroke': 0,\n",
    "    'prevalentHyp': 0,\n",
    "    'diabetes': 0,\n",
    "    'totChol': 200,\n",
    "    'sysBP': 130,  # Ensure 'sysBP' is included\n",
    "    'diaBP': 80,\n",
    "    'BMI': 29.5,\n",
    "    'heartRate': 72,\n",
    "    'glucose': 90,\n",
    "}], columns=['age', 'education', 'sex', 'is_smoking', 'cigsPerDay', 'BPMeds',\n",
    "             'prevalentStroke', 'prevalentHyp', 'diabetes', 'totChol', 'sysBP',\n",
    "             'diaBP', 'BMI', 'heartRate', 'glucose'])  # Column order matches training order\n",
    "\n",
    "# Make predictions using the trained model\n",
    "predictions = model.predict(input_df)\n",
    "\n",
    "# Display the prediction\n",
    "print(\"Prediction:\", predictions)\n"
   ],
   "id": "26fae46b2399f0b8",
   "outputs": [
    {
     "name": "stdout",
     "output_type": "stream",
     "text": [
      "Prediction: [0.]\n"
     ]
    }
   ],
   "execution_count": 10
  },
  {
   "metadata": {
    "ExecuteTime": {
     "end_time": "2025-01-11T10:03:08.231678Z",
     "start_time": "2025-01-11T10:03:08.217530Z"
    }
   },
   "cell_type": "code",
   "source": [
    "# Get the column names from your training data\n",
    "feature_columns = X_train.columns\n",
    "print(\"Feature columns used during training:\", feature_columns)\n"
   ],
   "id": "1d711c84e28fde2a",
   "outputs": [
    {
     "name": "stdout",
     "output_type": "stream",
     "text": [
      "Feature columns used during training: Index(['age', 'education', 'sex', 'is_smoking', 'cigsPerDay', 'BPMeds',\n",
      "       'prevalentStroke', 'prevalentHyp', 'diabetes', 'totChol', 'sysBP',\n",
      "       'diaBP', 'BMI', 'heartRate', 'glucose'],\n",
      "      dtype='object')\n"
     ]
    }
   ],
   "execution_count": 11
  }
 ],
 "metadata": {
  "kernelspec": {
   "display_name": "Python 3",
   "language": "python",
   "name": "python3"
  },
  "language_info": {
   "codemirror_mode": {
    "name": "ipython",
    "version": 2
   },
   "file_extension": ".py",
   "mimetype": "text/x-python",
   "name": "python",
   "nbconvert_exporter": "python",
   "pygments_lexer": "ipython2",
   "version": "2.7.6"
  }
 },
 "nbformat": 4,
 "nbformat_minor": 5
}
